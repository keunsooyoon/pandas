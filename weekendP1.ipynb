{
  "nbformat": 4,
  "nbformat_minor": 0,
  "metadata": {
    "colab": {
      "name": "weekendP1.ipynb",
      "provenance": [],
      "authorship_tag": "ABX9TyMfK/2+GRF10XXw6M0Ehm9U",
      "include_colab_link": true
    },
    "kernelspec": {
      "name": "python3",
      "display_name": "Python 3"
    },
    "language_info": {
      "name": "python"
    }
  },
  "cells": [
    {
      "cell_type": "markdown",
      "metadata": {
        "id": "view-in-github",
        "colab_type": "text"
      },
      "source": [
        "<a href=\"https://colab.research.google.com/github/keunsooyoon/pandas/blob/main/weekendP1.ipynb\" target=\"_parent\"><img src=\"https://colab.research.google.com/assets/colab-badge.svg\" alt=\"Open In Colab\"/></a>"
      ]
    },
    {
      "cell_type": "code",
      "metadata": {
        "colab": {
          "base_uri": "https://localhost:8080/"
        },
        "id": "s4zLPQxa6F0E",
        "outputId": "21f5c2fa-d39a-4b7f-838e-67ecffa6856c"
      },
      "source": [
        "# List, Tuple, Dict, Set \n",
        "\n",
        "# List - mutable, 수정과 삭제가 가능하다. 인덱싱, 슬라이싱 가능, [] 대괄호\n",
        "#        하나의 리스트에 숫자형, 문자형, 튜플, 딕...섞어서 저장이 가능하다\n",
        "\n",
        "\n",
        "#리스트 만들기 \n",
        "\n",
        "odd = [1,2,3,4,5]\n",
        "odd"
      ],
      "execution_count": 2,
      "outputs": [
        {
          "output_type": "execute_result",
          "data": {
            "text/plain": [
              "[1, 2, 3, 4, 5]"
            ]
          },
          "metadata": {},
          "execution_count": 2
        }
      ]
    },
    {
      "cell_type": "code",
      "metadata": {
        "id": "FMNXIStL9EJm"
      },
      "source": [
        "a = []"
      ],
      "execution_count": 3,
      "outputs": []
    },
    {
      "cell_type": "code",
      "metadata": {
        "id": "07tgsRtg-az9"
      },
      "source": [
        "b = [1,2,3]"
      ],
      "execution_count": 4,
      "outputs": []
    },
    {
      "cell_type": "code",
      "metadata": {
        "id": "f8tduFex-dMZ"
      },
      "source": [
        "c = ['a','b','c']"
      ],
      "execution_count": 5,
      "outputs": []
    },
    {
      "cell_type": "code",
      "metadata": {
        "id": "8O9jlFtH-gAs"
      },
      "source": [
        "d = [1,2,'c','d']"
      ],
      "execution_count": 6,
      "outputs": []
    },
    {
      "cell_type": "code",
      "metadata": {
        "id": "lowOHmeQ-m_g"
      },
      "source": [
        "e = [1,2,['good','morning']]"
      ],
      "execution_count": 7,
      "outputs": []
    },
    {
      "cell_type": "code",
      "metadata": {
        "id": "SFZ4Cqoh-vRX"
      },
      "source": [
        "# 리스트 인덱싱 - 몇 번째 요소를 추출"
      ],
      "execution_count": null,
      "outputs": []
    },
    {
      "cell_type": "code",
      "metadata": {
        "colab": {
          "base_uri": "https://localhost:8080/"
        },
        "id": "nEmdCKGb9BSB",
        "outputId": "8fa3f9eb-74c2-441d-94ce-1e3c62d25409"
      },
      "source": [
        "a = [1,2,3]\n",
        "a[0]"
      ],
      "execution_count": 8,
      "outputs": [
        {
          "output_type": "execute_result",
          "data": {
            "text/plain": [
              "1"
            ]
          },
          "metadata": {},
          "execution_count": 8
        }
      ]
    },
    {
      "cell_type": "code",
      "metadata": {
        "colab": {
          "base_uri": "https://localhost:8080/"
        },
        "id": "z3-YaclV_FBI",
        "outputId": "d1ef0b3a-fa95-4de8-91f5-591fe478a126"
      },
      "source": [
        "a[0] + a[2]"
      ],
      "execution_count": 9,
      "outputs": [
        {
          "output_type": "execute_result",
          "data": {
            "text/plain": [
              "4"
            ]
          },
          "metadata": {},
          "execution_count": 9
        }
      ]
    },
    {
      "cell_type": "code",
      "metadata": {
        "colab": {
          "base_uri": "https://localhost:8080/"
        },
        "id": "7RKG8wwe_Np5",
        "outputId": "9e726030-481f-4db0-b594-b0b0df2d3331"
      },
      "source": [
        " a[-1]"
      ],
      "execution_count": 10,
      "outputs": [
        {
          "output_type": "execute_result",
          "data": {
            "text/plain": [
              "3"
            ]
          },
          "metadata": {},
          "execution_count": 10
        }
      ]
    },
    {
      "cell_type": "code",
      "metadata": {
        "colab": {
          "base_uri": "https://localhost:8080/"
        },
        "id": "LqIk8yRkCk-v",
        "outputId": "6627b933-36cc-4749-a720-0bf0f08af8f5"
      },
      "source": [
        "# 리스트 슬라이싱 - 여러개 추출\n",
        "\n",
        "a = [1,2,3,4,5]\n",
        "a[0:2]  # 0 번째 부터 2미만 까지"
      ],
      "execution_count": 11,
      "outputs": [
        {
          "output_type": "execute_result",
          "data": {
            "text/plain": [
              "[1, 2]"
            ]
          },
          "metadata": {},
          "execution_count": 11
        }
      ]
    },
    {
      "cell_type": "code",
      "metadata": {
        "colab": {
          "base_uri": "https://localhost:8080/"
        },
        "id": "9RRaM1CiC2rR",
        "outputId": "f0a2d918-7849-4905-9083-e62aa3446253"
      },
      "source": [
        "b = a[:2]\n",
        "b"
      ],
      "execution_count": 12,
      "outputs": [
        {
          "output_type": "execute_result",
          "data": {
            "text/plain": [
              "[1, 2]"
            ]
          },
          "metadata": {},
          "execution_count": 12
        }
      ]
    },
    {
      "cell_type": "code",
      "metadata": {
        "colab": {
          "base_uri": "https://localhost:8080/"
        },
        "id": "zYMUCTbnDGNx",
        "outputId": "d3c13ef0-717c-4374-f825-d8280bf86b14"
      },
      "source": [
        "c = a[2:]\n",
        "c"
      ],
      "execution_count": 13,
      "outputs": [
        {
          "output_type": "execute_result",
          "data": {
            "text/plain": [
              "[3, 4, 5]"
            ]
          },
          "metadata": {},
          "execution_count": 13
        }
      ]
    },
    {
      "cell_type": "code",
      "metadata": {
        "colab": {
          "base_uri": "https://localhost:8080/"
        },
        "id": "TbULmZUVDOL2",
        "outputId": "8f91904d-26bd-4506-e47e-ea20d3482cfb"
      },
      "source": [
        "len(a)"
      ],
      "execution_count": 14,
      "outputs": [
        {
          "output_type": "execute_result",
          "data": {
            "text/plain": [
              "5"
            ]
          },
          "metadata": {},
          "execution_count": 14
        }
      ]
    },
    {
      "cell_type": "code",
      "metadata": {
        "colab": {
          "base_uri": "https://localhost:8080/"
        },
        "id": "YHDbCvWWDdpt",
        "outputId": "0ff8ca7c-c675-4820-827e-9179936dad9f"
      },
      "source": [
        " # 리스트의 수정과 삭제\n",
        "\n",
        "a = [1,2,3]\n",
        "a[2] = 4\n",
        "a"
      ],
      "execution_count": 15,
      "outputs": [
        {
          "output_type": "execute_result",
          "data": {
            "text/plain": [
              "[1, 2, 4]"
            ]
          },
          "metadata": {},
          "execution_count": 15
        }
      ]
    },
    {
      "cell_type": "code",
      "metadata": {
        "id": "2HZaWqzsD0gx"
      },
      "source": [
        "del a[1]"
      ],
      "execution_count": 16,
      "outputs": []
    },
    {
      "cell_type": "code",
      "metadata": {
        "colab": {
          "base_uri": "https://localhost:8080/"
        },
        "id": "pLT6kMbVD8ch",
        "outputId": "ede0d6b7-2651-4559-a18d-c65379532faf"
      },
      "source": [
        "a"
      ],
      "execution_count": 17,
      "outputs": [
        {
          "output_type": "execute_result",
          "data": {
            "text/plain": [
              "[1, 4]"
            ]
          },
          "metadata": {},
          "execution_count": 17
        }
      ]
    },
    {
      "cell_type": "code",
      "metadata": {
        "id": "vsIz6ATRD9Uq"
      },
      "source": [
        "a = [1,2,3,4,5]\n",
        "del a[2:]"
      ],
      "execution_count": 18,
      "outputs": []
    },
    {
      "cell_type": "code",
      "metadata": {
        "colab": {
          "base_uri": "https://localhost:8080/"
        },
        "id": "8dwP6zIoEH--",
        "outputId": "3e2606fd-ec0e-48db-a7e6-149852d753f4"
      },
      "source": [
        "a"
      ],
      "execution_count": 19,
      "outputs": [
        {
          "output_type": "execute_result",
          "data": {
            "text/plain": [
              "[1, 2]"
            ]
          },
          "metadata": {},
          "execution_count": 19
        }
      ]
    },
    {
      "cell_type": "code",
      "metadata": {
        "colab": {
          "base_uri": "https://localhost:8080/"
        },
        "id": "t8anpckuEIya",
        "outputId": "9e8160e0-c942-4266-9605-5650f14a05e7"
      },
      "source": [
        "# 리스트 관련 함수들 정리\n",
        "# append - 리스트에 요소 추가\n",
        "\n",
        "a = [1,2,3]\n",
        "a.append(4)\n",
        "a"
      ],
      "execution_count": 20,
      "outputs": [
        {
          "output_type": "execute_result",
          "data": {
            "text/plain": [
              "[1, 2, 3, 4]"
            ]
          },
          "metadata": {},
          "execution_count": 20
        }
      ]
    },
    {
      "cell_type": "code",
      "metadata": {
        "colab": {
          "base_uri": "https://localhost:8080/"
        },
        "id": "qPTQC5EEEbBH",
        "outputId": "56db500f-094b-43e7-e808-0f038a4ea607"
      },
      "source": [
        "# pop 마지막 요소를 끄집어내기\n",
        "a.pop()"
      ],
      "execution_count": 21,
      "outputs": [
        {
          "output_type": "execute_result",
          "data": {
            "text/plain": [
              "4"
            ]
          },
          "metadata": {},
          "execution_count": 21
        }
      ]
    },
    {
      "cell_type": "code",
      "metadata": {
        "colab": {
          "base_uri": "https://localhost:8080/"
        },
        "id": "txDZXEzfEqiz",
        "outputId": "e60a2637-6d63-4325-d41d-4143b410e763"
      },
      "source": [
        "a"
      ],
      "execution_count": 22,
      "outputs": [
        {
          "output_type": "execute_result",
          "data": {
            "text/plain": [
              "[1, 2, 3]"
            ]
          },
          "metadata": {},
          "execution_count": 22
        }
      ]
    },
    {
      "cell_type": "code",
      "metadata": {
        "colab": {
          "base_uri": "https://localhost:8080/"
        },
        "id": "HDp_LhGrEvp5",
        "outputId": "b1fe8872-f289-447a-f612-56a7ff38d192"
      },
      "source": [
        "a.pop()"
      ],
      "execution_count": 23,
      "outputs": [
        {
          "output_type": "execute_result",
          "data": {
            "text/plain": [
              "3"
            ]
          },
          "metadata": {},
          "execution_count": 23
        }
      ]
    },
    {
      "cell_type": "code",
      "metadata": {
        "colab": {
          "base_uri": "https://localhost:8080/"
        },
        "id": "txLkSUNPEy4p",
        "outputId": "58c2ff57-face-4f2d-aa1d-bc29eb061337"
      },
      "source": [
        "a"
      ],
      "execution_count": 24,
      "outputs": [
        {
          "output_type": "execute_result",
          "data": {
            "text/plain": [
              "[1, 2]"
            ]
          },
          "metadata": {},
          "execution_count": 24
        }
      ]
    },
    {
      "cell_type": "code",
      "metadata": {
        "colab": {
          "base_uri": "https://localhost:8080/"
        },
        "id": "pyL8ddK8Ez6j",
        "outputId": "56648b11-ec5c-4e70-ba76-f6929efd1e21"
      },
      "source": [
        "a.pop(0)"
      ],
      "execution_count": 25,
      "outputs": [
        {
          "output_type": "execute_result",
          "data": {
            "text/plain": [
              "1"
            ]
          },
          "metadata": {},
          "execution_count": 25
        }
      ]
    },
    {
      "cell_type": "code",
      "metadata": {
        "colab": {
          "base_uri": "https://localhost:8080/"
        },
        "id": "Mh2jGI-bE3uj",
        "outputId": "a45977e3-191f-416a-c0da-84f14b1f08af"
      },
      "source": [
        "a"
      ],
      "execution_count": 26,
      "outputs": [
        {
          "output_type": "execute_result",
          "data": {
            "text/plain": [
              "[2]"
            ]
          },
          "metadata": {},
          "execution_count": 26
        }
      ]
    },
    {
      "cell_type": "code",
      "metadata": {
        "id": "bvikcMvlE4M3"
      },
      "source": [
        "# Tuple - immutable, 수정과 삭제가  불가능하다. 인덱싱, 슬라이싱 가능, () 대괄호\n",
        "#        하나의 튜플에 숫자형, 문자형, 튜플, 딕...섞어서 저장이 가능하다\n",
        "#        하나만 튜플로 만들때는 쉼표를 넣어준다.. (2,)"
      ],
      "execution_count": null,
      "outputs": []
    },
    {
      "cell_type": "code",
      "metadata": {
        "id": "z2LkBTzkFaJS"
      },
      "source": [
        "t1 = ()\n",
        "\n",
        "t2 = (1,2,3)\n",
        "t3 = ('a','b','c')\n",
        "t4 = ('a','b',1,2,3)\n",
        "\n",
        "t5 = 1,2,3\n",
        "t6 = (2,)"
      ],
      "execution_count": 29,
      "outputs": []
    },
    {
      "cell_type": "code",
      "metadata": {
        "colab": {
          "base_uri": "https://localhost:8080/",
          "height": 188
        },
        "id": "N_HUf-9HFrco",
        "outputId": "d6c1ca65-661e-4845-d92e-59fbc12205a0"
      },
      "source": [
        "t1 = (1,2,3,4,5)\n",
        "del t1[0]   #튜플은 삭제 불가능"
      ],
      "execution_count": 31,
      "outputs": [
        {
          "output_type": "error",
          "ename": "TypeError",
          "evalue": "ignored",
          "traceback": [
            "\u001b[0;31m---------------------------------------------------------------------------\u001b[0m",
            "\u001b[0;31mTypeError\u001b[0m                                 Traceback (most recent call last)",
            "\u001b[0;32m<ipython-input-31-07fc13c81734>\u001b[0m in \u001b[0;36m<module>\u001b[0;34m()\u001b[0m\n\u001b[1;32m      1\u001b[0m \u001b[0mt1\u001b[0m \u001b[0;34m=\u001b[0m \u001b[0;34m(\u001b[0m\u001b[0;36m1\u001b[0m\u001b[0;34m,\u001b[0m\u001b[0;36m2\u001b[0m\u001b[0;34m,\u001b[0m\u001b[0;36m3\u001b[0m\u001b[0;34m,\u001b[0m\u001b[0;36m4\u001b[0m\u001b[0;34m,\u001b[0m\u001b[0;36m5\u001b[0m\u001b[0;34m)\u001b[0m\u001b[0;34m\u001b[0m\u001b[0;34m\u001b[0m\u001b[0m\n\u001b[0;32m----> 2\u001b[0;31m \u001b[0;32mdel\u001b[0m \u001b[0mt1\u001b[0m\u001b[0;34m[\u001b[0m\u001b[0;36m0\u001b[0m\u001b[0;34m]\u001b[0m\u001b[0;34m\u001b[0m\u001b[0;34m\u001b[0m\u001b[0m\n\u001b[0m",
            "\u001b[0;31mTypeError\u001b[0m: 'tuple' object doesn't support item deletion"
          ]
        }
      ]
    },
    {
      "cell_type": "code",
      "metadata": {
        "colab": {
          "base_uri": "https://localhost:8080/",
          "height": 188
        },
        "id": "LuM0vPSDGbU0",
        "outputId": "a12f2241-bb77-4c24-e77e-6c8e132bfe87"
      },
      "source": [
        "t1 = (1,2,3,4,5)\n",
        "t1[0] = 9 # 튜플은 수정 불가능"
      ],
      "execution_count": 32,
      "outputs": [
        {
          "output_type": "error",
          "ename": "TypeError",
          "evalue": "ignored",
          "traceback": [
            "\u001b[0;31m---------------------------------------------------------------------------\u001b[0m",
            "\u001b[0;31mTypeError\u001b[0m                                 Traceback (most recent call last)",
            "\u001b[0;32m<ipython-input-32-33c7b83196ab>\u001b[0m in \u001b[0;36m<module>\u001b[0;34m()\u001b[0m\n\u001b[1;32m      1\u001b[0m \u001b[0mt1\u001b[0m \u001b[0;34m=\u001b[0m \u001b[0;34m(\u001b[0m\u001b[0;36m1\u001b[0m\u001b[0;34m,\u001b[0m\u001b[0;36m2\u001b[0m\u001b[0;34m,\u001b[0m\u001b[0;36m3\u001b[0m\u001b[0;34m,\u001b[0m\u001b[0;36m4\u001b[0m\u001b[0;34m,\u001b[0m\u001b[0;36m5\u001b[0m\u001b[0;34m)\u001b[0m\u001b[0;34m\u001b[0m\u001b[0;34m\u001b[0m\u001b[0m\n\u001b[0;32m----> 2\u001b[0;31m \u001b[0mt1\u001b[0m\u001b[0;34m[\u001b[0m\u001b[0;36m0\u001b[0m\u001b[0;34m]\u001b[0m \u001b[0;34m=\u001b[0m \u001b[0;36m9\u001b[0m\u001b[0;34m\u001b[0m\u001b[0;34m\u001b[0m\u001b[0m\n\u001b[0m",
            "\u001b[0;31mTypeError\u001b[0m: 'tuple' object does not support item assignment"
          ]
        }
      ]
    },
    {
      "cell_type": "code",
      "metadata": {
        "colab": {
          "base_uri": "https://localhost:8080/"
        },
        "id": "PDg_jjg5Gk6y",
        "outputId": "cea16fb0-9e13-4226-885b-d4d747357bfb"
      },
      "source": [
        "# 튜플에서 인덱싱 \n",
        "t1 = (1,2,3,4,5)\n",
        "t1[0]"
      ],
      "execution_count": 33,
      "outputs": [
        {
          "output_type": "execute_result",
          "data": {
            "text/plain": [
              "1"
            ]
          },
          "metadata": {},
          "execution_count": 33
        }
      ]
    },
    {
      "cell_type": "code",
      "metadata": {
        "colab": {
          "base_uri": "https://localhost:8080/"
        },
        "id": "h__Ti6PdG-Rf",
        "outputId": "4a4c0cde-25d4-477d-f439-2b5ecc227282"
      },
      "source": [
        "# 튜플에서 슬라이싱\n",
        "t1 = (1,2,3,4,5)\n",
        "t1[1:] "
      ],
      "execution_count": 34,
      "outputs": [
        {
          "output_type": "execute_result",
          "data": {
            "text/plain": [
              "(2, 3, 4, 5)"
            ]
          },
          "metadata": {},
          "execution_count": 34
        }
      ]
    },
    {
      "cell_type": "code",
      "metadata": {
        "colab": {
          "base_uri": "https://localhost:8080/"
        },
        "id": "9kl_3fSkGaTx",
        "outputId": "7bb68589-24d1-4932-f066-2038be262bb3"
      },
      "source": [
        "len(t1)"
      ],
      "execution_count": 35,
      "outputs": [
        {
          "output_type": "execute_result",
          "data": {
            "text/plain": [
              "5"
            ]
          },
          "metadata": {},
          "execution_count": 35
        }
      ]
    },
    {
      "cell_type": "code",
      "metadata": {
        "id": "_RUIjj_fHiRO"
      },
      "source": [
        "# 딕셔너리 - 이름: 이몽룡, 나이: 16 ,,키:밸류 의 데이터 자료형\n",
        "#            판다스 시리즈, 자바 맵.....\n",
        "#            인덱싱과 슬라이싱 불가능 mutable 수정과 삭제가 가능하다. {}"
      ],
      "execution_count": null,
      "outputs": []
    },
    {
      "cell_type": "code",
      "metadata": {
        "id": "mGgEoRB7Iu4X"
      },
      "source": [
        "dic = {'이름':'이몽룡','나이':16,'여친':'성춘향'}"
      ],
      "execution_count": 36,
      "outputs": []
    },
    {
      "cell_type": "code",
      "metadata": {
        "id": "Dy0jU6H1JCTz"
      },
      "source": [
        " dic['과거시험'] = '합격'"
      ],
      "execution_count": 37,
      "outputs": []
    },
    {
      "cell_type": "code",
      "metadata": {
        "colab": {
          "base_uri": "https://localhost:8080/"
        },
        "id": "LQij6nrOJSVC",
        "outputId": "53baf59e-8423-4b7f-e581-961a15cbf6dc"
      },
      "source": [
        "dic"
      ],
      "execution_count": 38,
      "outputs": [
        {
          "output_type": "execute_result",
          "data": {
            "text/plain": [
              "{'과거시험': '합격', '나이': 16, '여친': '성춘향', '이름': '이몽룡'}"
            ]
          },
          "metadata": {},
          "execution_count": 38
        }
      ]
    },
    {
      "cell_type": "code",
      "metadata": {
        "id": "w8KP0w20JTBP"
      },
      "source": [
        "del dic['여친']"
      ],
      "execution_count": 39,
      "outputs": []
    },
    {
      "cell_type": "code",
      "metadata": {
        "colab": {
          "base_uri": "https://localhost:8080/"
        },
        "id": "_nea3srSJj-5",
        "outputId": "0224d423-6538-453c-b9ce-6a84936f4527"
      },
      "source": [
        "dic"
      ],
      "execution_count": 40,
      "outputs": [
        {
          "output_type": "execute_result",
          "data": {
            "text/plain": [
              "{'과거시험': '합격', '나이': 16, '이름': '이몽룡'}"
            ]
          },
          "metadata": {},
          "execution_count": 40
        }
      ]
    },
    {
      "cell_type": "code",
      "metadata": {
        "colab": {
          "base_uri": "https://localhost:8080/",
          "height": 35
        },
        "id": "EQTkhaiaJlIy",
        "outputId": "d58bbc5f-4d44-4430-8a79-92f305c585ad"
      },
      "source": [
        "dic['이름']"
      ],
      "execution_count": 41,
      "outputs": [
        {
          "output_type": "execute_result",
          "data": {
            "application/vnd.google.colaboratory.intrinsic+json": {
              "type": "string"
            },
            "text/plain": [
              "'이몽룡'"
            ]
          },
          "metadata": {},
          "execution_count": 41
        }
      ]
    },
    {
      "cell_type": "code",
      "metadata": {
        "id": "RyNnwLQWJzvx"
      },
      "source": [
        "# 리스트나 튜플은 요소값을 얻어낼때 인덱싱이나 슬라이싱을 사용했다.\n",
        "# 그러나 딕셔너리는 인덱싱과 슬라이싱이 불가능하며 \n",
        "# 키값으로 밸류값을 얻어내는 방법만 사용한다. "
      ],
      "execution_count": null,
      "outputs": []
    },
    {
      "cell_type": "code",
      "metadata": {
        "colab": {
          "base_uri": "https://localhost:8080/"
        },
        "id": "UvwLApl5KQWa",
        "outputId": "1ed6efd5-b85e-4d9e-c0dd-1912ddecb441"
      },
      "source": [
        "# 딕셔너리 관련 함수들...\n",
        "dic.keys()"
      ],
      "execution_count": 42,
      "outputs": [
        {
          "output_type": "execute_result",
          "data": {
            "text/plain": [
              "dict_keys(['이름', '나이', '과거시험'])"
            ]
          },
          "metadata": {},
          "execution_count": 42
        }
      ]
    },
    {
      "cell_type": "code",
      "metadata": {
        "colab": {
          "base_uri": "https://localhost:8080/"
        },
        "id": "sABBWnGMKWMl",
        "outputId": "1115cb33-572f-4de2-8b2d-d996ef68f28f"
      },
      "source": [
        "list(dic.keys())"
      ],
      "execution_count": 43,
      "outputs": [
        {
          "output_type": "execute_result",
          "data": {
            "text/plain": [
              "['이름', '나이', '과거시험']"
            ]
          },
          "metadata": {},
          "execution_count": 43
        }
      ]
    },
    {
      "cell_type": "code",
      "metadata": {
        "colab": {
          "base_uri": "https://localhost:8080/"
        },
        "id": "MjGOf6zxKdzL",
        "outputId": "fb015985-e6a3-4158-a7d0-06f1558df740"
      },
      "source": [
        "dic.values()"
      ],
      "execution_count": 44,
      "outputs": [
        {
          "output_type": "execute_result",
          "data": {
            "text/plain": [
              "dict_values(['이몽룡', 16, '합격'])"
            ]
          },
          "metadata": {},
          "execution_count": 44
        }
      ]
    },
    {
      "cell_type": "code",
      "metadata": {
        "colab": {
          "base_uri": "https://localhost:8080/"
        },
        "id": "1UIN1Wo5Khj6",
        "outputId": "640957c7-a274-4667-fceb-9afff48e6a0b"
      },
      "source": [
        "dic.items()"
      ],
      "execution_count": 45,
      "outputs": [
        {
          "output_type": "execute_result",
          "data": {
            "text/plain": [
              "dict_items([('이름', '이몽룡'), ('나이', 16), ('과거시험', '합격')])"
            ]
          },
          "metadata": {},
          "execution_count": 45
        }
      ]
    },
    {
      "cell_type": "code",
      "metadata": {
        "colab": {
          "base_uri": "https://localhost:8080/"
        },
        "id": "m8k602LCKqPq",
        "outputId": "83af6633-e9f5-4da3-9462-e64ffd11782b"
      },
      "source": [
        "'이름' in dic"
      ],
      "execution_count": 46,
      "outputs": [
        {
          "output_type": "execute_result",
          "data": {
            "text/plain": [
              "True"
            ]
          },
          "metadata": {},
          "execution_count": 46
        }
      ]
    },
    {
      "cell_type": "code",
      "metadata": {
        "colab": {
          "base_uri": "https://localhost:8080/"
        },
        "id": "_uTYL4r5LIyQ",
        "outputId": "00711d8a-36b8-4541-d315-e7e6c921fb88"
      },
      "source": [
        "'이메일' in dic"
      ],
      "execution_count": 47,
      "outputs": [
        {
          "output_type": "execute_result",
          "data": {
            "text/plain": [
              "False"
            ]
          },
          "metadata": {},
          "execution_count": 47
        }
      ]
    },
    {
      "cell_type": "code",
      "metadata": {
        "colab": {
          "base_uri": "https://localhost:8080/"
        },
        "id": "00fC6dE8LOJO",
        "outputId": "ee98a3ec-e5c2-4b27-c61f-9ea31c572579"
      },
      "source": [
        "# Set 집합 - 중복을 허용하지 않는다. 순서가 없다. unordered\n",
        "#            인덱싱과 슬라이싱 불가능, 수정과 삭제는 가능하다. mutable\n",
        "#            중복 제거용 필터 형태로 많이 사용된다. \n",
        "\n",
        "s1 = set(\"Hello\")\n",
        "s1"
      ],
      "execution_count": 48,
      "outputs": [
        {
          "output_type": "execute_result",
          "data": {
            "text/plain": [
              "{'H', 'e', 'l', 'o'}"
            ]
          },
          "metadata": {},
          "execution_count": 48
        }
      ]
    },
    {
      "cell_type": "code",
      "metadata": {
        "colab": {
          "base_uri": "https://localhost:8080/"
        },
        "id": "ImUH16njLz9u",
        "outputId": "3005fc1f-cf5f-45f3-8591-7353d34a04ae"
      },
      "source": [
        "s1 = set([1,2,3])\n",
        "s1.add(4)\n",
        "s1"
      ],
      "execution_count": 49,
      "outputs": [
        {
          "output_type": "execute_result",
          "data": {
            "text/plain": [
              "{1, 2, 3, 4}"
            ]
          },
          "metadata": {},
          "execution_count": 49
        }
      ]
    },
    {
      "cell_type": "code",
      "metadata": {
        "colab": {
          "base_uri": "https://localhost:8080/"
        },
        "id": "C-EJyeMRMVrf",
        "outputId": "ad022a5e-b889-4dea-b4cf-593a9f4fdb89"
      },
      "source": [
        "s1.remove(2)\n",
        "s1"
      ],
      "execution_count": 50,
      "outputs": [
        {
          "output_type": "execute_result",
          "data": {
            "text/plain": [
              "{1, 3, 4}"
            ]
          },
          "metadata": {},
          "execution_count": 50
        }
      ]
    },
    {
      "cell_type": "code",
      "metadata": {
        "colab": {
          "base_uri": "https://localhost:8080/"
        },
        "id": "Hcuaz1FvMexU",
        "outputId": "eabf83e7-5869-4539-dd36-f9aa6081286b"
      },
      "source": [
        "s = {\"1\",3,4,5}\n",
        "s"
      ],
      "execution_count": 52,
      "outputs": [
        {
          "output_type": "execute_result",
          "data": {
            "text/plain": [
              "{'1', 3, 4, 5}"
            ]
          },
          "metadata": {},
          "execution_count": 52
        }
      ]
    },
    {
      "cell_type": "code",
      "metadata": {
        "id": "UKjYlHKhPaS4"
      },
      "source": [
        ""
      ],
      "execution_count": null,
      "outputs": []
    },
    {
      "cell_type": "code",
      "metadata": {
        "colab": {
          "base_uri": "https://localhost:8080/"
        },
        "id": "PSEmGGNRNpBZ",
        "outputId": "c4c4ca6c-008a-47ec-a933-091d5bed14cc"
      },
      "source": [
        "type(s)"
      ],
      "execution_count": 53,
      "outputs": [
        {
          "output_type": "execute_result",
          "data": {
            "text/plain": [
              "set"
            ]
          },
          "metadata": {},
          "execution_count": 53
        }
      ]
    },
    {
      "cell_type": "code",
      "metadata": {
        "colab": {
          "base_uri": "https://localhost:8080/"
        },
        "id": "7sPl_S29NqWg",
        "outputId": "4bb8285f-1a6f-49c2-a74d-a93aa0a6e48f"
      },
      "source": [
        "!pip install pandas"
      ],
      "execution_count": 55,
      "outputs": [
        {
          "output_type": "stream",
          "name": "stdout",
          "text": [
            "Requirement already satisfied: pandas in /usr/local/lib/python3.7/dist-packages (1.1.5)\n",
            "Requirement already satisfied: python-dateutil>=2.7.3 in /usr/local/lib/python3.7/dist-packages (from pandas) (2.8.2)\n",
            "Requirement already satisfied: pytz>=2017.2 in /usr/local/lib/python3.7/dist-packages (from pandas) (2018.9)\n",
            "Requirement already satisfied: numpy>=1.15.4 in /usr/local/lib/python3.7/dist-packages (from pandas) (1.19.5)\n",
            "Requirement already satisfied: six>=1.5 in /usr/local/lib/python3.7/dist-packages (from python-dateutil>=2.7.3->pandas) (1.15.0)\n"
          ]
        }
      ]
    },
    {
      "cell_type": "code",
      "metadata": {
        "colab": {
          "base_uri": "https://localhost:8080/"
        },
        "id": "_3ayg7r3Nn59",
        "outputId": "d2845f75-4dc1-4795-b0d8-c43ae2a599f2"
      },
      "source": [
        "import pandas as pd\n",
        "\n",
        "# 시리즈, 데이터 프레임(*)\n",
        "\n",
        "# Series 키값과 밸류값 형태 즉 파이썬 딕셔너리와 유사한 구조\n",
        "\n",
        "dict_data = {'a': 1, 'b':2, 'c':3}   # 파이썬 딕셔너리\n",
        "dict_data"
      ],
      "execution_count": 61,
      "outputs": [
        {
          "output_type": "execute_result",
          "data": {
            "text/plain": [
              "{'a': 1, 'b': 2, 'c': 3}"
            ]
          },
          "metadata": {},
          "execution_count": 61
        }
      ]
    },
    {
      "cell_type": "code",
      "metadata": {
        "id": "njMCNA_vRtnm"
      },
      "source": [
        "sr = pd.Series(dict_data)"
      ],
      "execution_count": 59,
      "outputs": []
    },
    {
      "cell_type": "code",
      "metadata": {
        "colab": {
          "base_uri": "https://localhost:8080/"
        },
        "id": "EDUk8tHmRyvx",
        "outputId": "0bb29a54-857d-4a2f-f411-d3b8f08d390b"
      },
      "source": [
        "sr"
      ],
      "execution_count": 60,
      "outputs": [
        {
          "output_type": "execute_result",
          "data": {
            "text/plain": [
              "a    1\n",
              "b    2\n",
              "c    3\n",
              "dtype: int64"
            ]
          },
          "metadata": {},
          "execution_count": 60
        }
      ]
    },
    {
      "cell_type": "code",
      "metadata": {
        "colab": {
          "base_uri": "https://localhost:8080/"
        },
        "id": "QjfZsqrSQXOJ",
        "outputId": "00188958-5e52-4b71-c246-5f6201090fd9"
      },
      "source": [
        "type(sr)"
      ],
      "execution_count": 62,
      "outputs": [
        {
          "output_type": "execute_result",
          "data": {
            "text/plain": [
              "pandas.core.series.Series"
            ]
          },
          "metadata": {},
          "execution_count": 62
        }
      ]
    },
    {
      "cell_type": "code",
      "metadata": {
        "colab": {
          "base_uri": "https://localhost:8080/"
        },
        "id": "gQuqHiReR-3Z",
        "outputId": "9ed54517-5846-4cdb-df0a-26499d396cf1"
      },
      "source": [
        "type(dict_data)"
      ],
      "execution_count": 63,
      "outputs": [
        {
          "output_type": "execute_result",
          "data": {
            "text/plain": [
              "dict"
            ]
          },
          "metadata": {},
          "execution_count": 63
        }
      ]
    },
    {
      "cell_type": "code",
      "metadata": {
        "colab": {
          "base_uri": "https://localhost:8080/"
        },
        "id": "BnJ6xQxXSSAY",
        "outputId": "488ea896-fa42-47cc-fea0-c14c4a1cecf7"
      },
      "source": [
        "list_data = ['2021-12-04', 3.14, 'ABC',100, True]\n",
        "\n",
        "sr = pd.Series(list_data)\n",
        "sr\n",
        "\n",
        "# 시리즈의 인덱스 배열과 데이터 값의 배열을 \n",
        "# 인덱스는 0~ 4 범위의 정수로 인덱스\n",
        "# 데이터값이 밸류 값으로 나열되어 시리즈를 생성한다. "
      ],
      "execution_count": 65,
      "outputs": [
        {
          "output_type": "execute_result",
          "data": {
            "text/plain": [
              "0    2021-12-04\n",
              "1          3.14\n",
              "2           ABC\n",
              "3           100\n",
              "4          True\n",
              "dtype: object"
            ]
          },
          "metadata": {},
          "execution_count": 65
        }
      ]
    },
    {
      "cell_type": "code",
      "metadata": {
        "colab": {
          "base_uri": "https://localhost:8080/"
        },
        "id": "7g-SjLx8SsOA",
        "outputId": "3c78c795-98a7-46f6-aa09-1afa4f9686b0"
      },
      "source": [
        "print(sr.index)"
      ],
      "execution_count": 66,
      "outputs": [
        {
          "output_type": "stream",
          "name": "stdout",
          "text": [
            "RangeIndex(start=0, stop=5, step=1)\n"
          ]
        }
      ]
    },
    {
      "cell_type": "code",
      "metadata": {
        "colab": {
          "base_uri": "https://localhost:8080/"
        },
        "id": "uDxDpCG8TRpn",
        "outputId": "072f8db6-4def-4d65-b1e5-c1c422be7382"
      },
      "source": [
        "print(sr.values)"
      ],
      "execution_count": 67,
      "outputs": [
        {
          "output_type": "stream",
          "name": "stdout",
          "text": [
            "['2021-12-04' 3.14 'ABC' 100 True]\n"
          ]
        }
      ]
    },
    {
      "cell_type": "code",
      "metadata": {
        "id": "l4_fGwPPTVYA"
      },
      "source": [
        ""
      ],
      "execution_count": null,
      "outputs": []
    },
    {
      "cell_type": "code",
      "metadata": {
        "id": "zBcNdyxWSitv"
      },
      "source": [
        ""
      ],
      "execution_count": null,
      "outputs": []
    }
  ]
}